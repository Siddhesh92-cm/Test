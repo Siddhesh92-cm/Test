FAILED test prompts.py::TestPromptAPI::test_get_prompts_success_with_filters fastapi.exceptions.HTTPException: 580: Client error '481 Unauthorized' for url 'https://mule4api-comm-amer-stg.pfizer.com/ves

Is.py

308

sel-prompt-library-v1/v2/prompts'

FAILED test prompts.py:: TestPromptAPI::test_get_prompts_no_results fastapi.exceptions.HTTPException: 580: Client error '401 Unauthorized' for url 'https://mule4api-comm-amer-stg.pfizer.com/vessel-prompt

-library-v1/v2/prompts"

FAILED

test prompts.py:: TestPromptAPI::test_get_prompts_no_filters fastapi.exceptions.HTTPException: 500: Client error '481 Unauthorized for url 'https://mule4api-comm-amer-stg.pfizer.com/vessel-prompt

-library-v1/v2/prompts'

FAILED test prompts.py::TestPromptAPI::test_get_prompts_limit_results_to_maximum_five_suggestions - fastapi.exceptions.HTTPException: 500: Client error '481 Unauthorized' for url 'https://mule4api-comm-am

er-stg.pfizer.com/vessel-prompt-library-v1/v2/prompts"

FAILED test prompts.py:: TestPromptAPI::test_get_prompts_http_exception_passthrough assert 500 488
