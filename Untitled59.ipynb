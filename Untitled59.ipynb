async def run_agent_and_collect(agent: Any, sub_question: str) -> str:
    """Run agent with comprehensive error handling and data preservation"""
    try:
        recursion_limit = 5
        all_content = []
        
        # Stream processing with nested error handling
        try:
            async for chunk in agent.astream(
                {"messages": [{"role": "user", "content": sub_question}]},
                {"recursion_limit": recursion_limit},
                stream_mode="updates"
            ):
                try:
                    # Extract content from all possible locations
                    content = None
                    
                    # Check agent messages
                    agent_data = chunk.get("agent", {})
                    if isinstance(agent_data, dict):
                        for msg in agent_data.get("messages", []):
                            msg_content = msg.get("content") if isinstance(msg, dict) else getattr(msg, "content", "")
                            if msg_content and str(msg_content).strip():
                                content = str(msg_content).strip()
                                break
                    
                    # Check direct output
                    if not content:
                        output = chunk.get("output")
                        if output:
                            output_content = output.get("content") if isinstance(output, dict) else getattr(output, "content", "")
                            if output_content and str(output_content).strip():
                                content = str(output_content).strip()
                    
                    if content:
                        all_content.append(content)
                        
                except Exception as chunk_error:
                    logger.debug(f"Error processing chunk: {str(chunk_error)}")
                    continue

        except Exception as stream_error:
            logger.info(f"Stream ended early: {str(stream_error)}")

        # Process collected content
        if not all_content:
            return "We couldn't retrieve information about this clinical trial. Please try different search terms."
        
        # Filter and format results
        meaningful_content = [
            c for c in all_content 
            if len(c) > 25 
            and not c.lower().startswith(("error", "sorry", "i don't know"))
        ]
        
        if meaningful_content:
            return "\n\n".join(meaningful_content[:3])  # Return top 3 most relevant
        
        return "The system couldn't find specific information about this query. Our team has been notified to investigate."

    except Exception as fatal_error:
        logger.error(f"Critical failure in run_agent_and_collect: {str(fatal_error)}")
        return "We're experiencing technical difficulties. Please try again later."


async def research_sub_query(
    sub_question_data: Dict[str, Any],
    original_query: str,
    refined_query: str,
    server_type: ServerType,
) -> Dict[str, Any]:
    """Fully error-proof research function"""
    sub_question = sub_question_data.get("question", "Unknown query")
    
    try:
        # Tool setup with error handling
        try:
            if ToolSelector[server_type]["data_type"] == "MCP":
                server_url = ToolSelector[server_type].get("tools")
                if not server_url:
                    return {
                        "sub_question": sub_question,
                        "answer": "The clinical trials database is currently unavailable."
                    }

                async with streamable_http_client(server_url) as (read_stream, write_stream, _):
                    async with ClientSession(read_stream, write_stream) as mcp_session:
                        await mcp_session.initialize()
                        all_tools = await load_mcp_tools(mcp_session)
                        tools = [tool for tool in all_tools if tool.name in sub_question_data.get("potential_tools", [])]
                        
                        context = f"Original query: {original_query}\nRefined query: {refined_query}\n"
                        agent = create_research_agent(
                            tools=tools,
                            sub_question=sub_question,
                            context=context,
                            server_type=server_type
                        )
                        answer = await run_agent_and_collect(agent, sub_question)

            else:
                all_tools = ToolSelector[server_type].get("tools", [])
                tools = [tool for tool in all_tools if tool.name in sub_question_data.get("potential_tools", [])]
                context = f"Original query: {original_query}\nRefined query: {refined_query}\n"
                agent = create_research_agent(
                    tools=tools,
                    sub_question=sub_question,
                    context=context,
                    server_type=server_type
                )
                answer = await run_agent_and_collect(agent, sub_question)

            return {
                "sub_question": sub_question,
                "answer": answer if answer else "No specific information was found for this query."
            }

        except Exception as research_error:
            logger.warning(f"Research attempt failed: {str(research_error)}")
            return {
                "sub_question": sub_question,
                "answer": "Our systems couldn't complete this research request. Please try again with different parameters."
            }

    except Exception as catastrophic_error:
        logger.critical(f"Total research failure: {str(catastrophic_error)}")
        return {
            "sub_question": sub_question,
            "answer": "We're unable to process clinical trial queries at this time. Our technical team has been alerted."
        }
