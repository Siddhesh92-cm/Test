async def run_agent_and_collect(agent: Any, sub_question: str) -> str:
    """Preserves all collected data even when recursion limits are hit"""
    collected_content = []
    
    try:
        async for chunk in agent.astream(
            {"messages": [{"role": "user", "content": sub_question}]},
            {"recursion_limit": 5},  # Hardcoded to match your Cortellis setup
            stream_mode="updates"
        ):
            # Unified content extraction
            content = None
            agent_data = chunk.get("agent", {})
            
            # Check all possible content locations
            for msg in agent_data.get("messages", []):
                msg_content = msg.get("content") if isinstance(msg, dict) else getattr(msg, "content", "")
                if msg_content and str(msg_content).strip():
                    content = str(msg_content).strip()
                    break
            
            if not content:
                output = chunk.get("output")
                if output:
                    output_content = output.get("content") if isinstance(output, dict) else getattr(output, "content", "")
                    if output_content and str(output_content).strip():
                        content = str(output_content).strip()
            
            if content:
                collected_content.append(content)
                logger.debug(f"Collected content: {content[:100]}...")

    except Exception as e:
        logger.warning(f"Agent execution interrupted: {str(e)}")
        # Continue to use collected content

    # Return best available results
    if not collected_content:
        return "No information found about this clinical trial."
    
    # Return filtered content or error information
    meaningful_data = [c for c in collected_content if len(c) > 20 and "Error" not in c]
    if meaningful_data:
        return "\n\n".join(meaningful_data)
    
    return "No complete information could be retrieved about this clinical trial."
