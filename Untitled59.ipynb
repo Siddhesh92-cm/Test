self <backend_unit_test_cases.test_prompts. TestPromptAPI object at 0x00000260AE331716>

E

E

@pytest.mark.asyncio

async def test get_prompts_success_with_filters(self):

***Test successful prompt retrieval with filters"""

mock_request Mock(spec-Request)

mock request.headers ("Authorization": "Bearer test sso_token")

#Rock the HTTP client at the prompts utils level to prevent real API calls with patch('backend.controllers.prompts.get_cached_auth_token", return_value="auth_token"), \ patch('backend.services.prompts_utils.httpx.AsyncClient') as mock_client_class:

#Setup the mock HTTP client

mock client AsyncMock()

mock_client_class.return_value._senter.return_value mock_client

#Mock the HTTP response

mock response Mock()

mock response.status code 200 mock response.json.return_value { "success": True, "prompts": [ } "id": "1", "prompt": "What are the emerging trends in ADC development for oncology, and how mig "tags": ["Competitive Intelligence"], "metadata_info": {"modified_at": "2825-08-11")

1

I

mock_client.get.return_value mock_response

result wait get_prompts( ) request-mock_request, keyword-"ADC development", data_products-["Competitive Intelligence"]

assert isinstance(result, SuggestionsResponse) assert len(result.suggestions) - 1 AssertionError: assart 01 shareIen([]) + where []- SuggestionsResponse(suggestions-[], data products-["Competitive Intelligence'],

test grapts.py:93: AssertionError

self <backend_unit_test_cases.test_prompts. TestPromptAPI object at 0x80000268AE332750>

@pytest.mark.asyncio

async def test get_prompts_no_filters(self):

***Test prompt retrieval without filters"""

mock_request Mock(spec-Request)

sock request.headers ("Authorization": "Bearer test_sso_token")

Rock the HTTP client at the prompts utils level to prevent real API calls

adth patch('backend.controllers.prompts.get_cached_auth_token', return_value="auth_token"), \

patch('backend.services.prompts_utils.httpx.AsyncClient') as mock_client_class:

Setup the mock HTTP client

mock client AsyncRock()

mock client_class.return_value. _aenter.return_value - mock_client:

#Mock response with multiple prompts

mock response - Mock()

mock response.status_code 200

mock_response.json.return_value{

"success": True,

"prompts":[ {

P "metadata info": {"modified_at": "2025-08-11"}

"prompt": "What is Paloma 2 trial", "tags": ["Clinical Documents"],

"id": "2",

"prompt": "How do genetic mutations contribute to cancer",

"tags": ["Scientific Literature"],

"metadata_info": {"modified_at": "2825-08-11")

"id": "3"

"prompt": "what are the emerging trends in ADC development for oncology",

"tags": ["Competitive Intelligence"),

"metadata_info": ("modified_at": "2025-08-11")

"prompt": "what was the most common type of misclassification in the stratification facte

"tags": ["Regulatory & Guidance to Industry"], "metadata info": ("modified_at": "2025-08-11")

mock_client.get.return_value sock response

◆data products.py

data sources.py

documents upload.py

feedback.py

er_product_category.py

products.py

ck.py

resultaat get_prompts( request-mock_request,

)

keyword-lone,

data_products-hone

assert isinstance(result, SuggestionsResponse)

E E

{

}

1

assert len(result.suggestions)4 assert 04

+shere len([])

here [] - SuggestionsResponse(suggestions-[], data products-None, keyword-None, count-0).suggestions

test_prompts.py:189: AssertionError

self <backend_unit_test_cases.test_prompts.TestPromptAPI object at 0x00000288AE332F58>

@pytest.mark.asyncio

async def test get prompts limit results to saleur five sliptical(self):

Test prompt retrieval limits suggestions to maximum 5 when more are available"

mock_request Mock(spec-Request)

mock_request.headers ("Authorization": "Bearer test_sso_token")

many_prompts - [

1

"id": str(i),

"prompt": f"Regulatory guidance document (1) for pharmaceutical submissions", "tags": ["Regulatory & Guidance to Industry"], "metadata_info": {"modified_at": f"2025-08-(1:02d)"}

} for i in range(1, 50)

Mock the HTTP client at the prompts utils level to prevent real API calls with patch('backend.controllers.prompts.get_cached_auth_token', return_value="auth_token"), \ patch('backend. services.prompts_utils.httpx.AsyncClient') as mock_client_class:

Setup the mock HTTP client

mock client AsyncMock()

mock client class.return_value. aenter.return_value mock_client

Mock response with many prompts

Mock the backend functions to simulate HTTPException

with patch('backend.controllers.prompts.get_cached_auth_token', return_value="auth_token"), \ patch('backend.services.prompts_utils.get_filtered_prompts", side_effect-HTTPException(status_code

with pytest.raises (HTTPException) as exc_info:

Py

Failed: DID NOT RAISE <class 'fastapi.exceptions.HITPException">

test prompts.py:260: Failed
