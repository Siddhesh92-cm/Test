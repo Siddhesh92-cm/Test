async def run_agent_and_collect(agent: Any, sub_question: str, recursion_limit: int = 10) -> str:
    """Run the agent and properly collect all content."""
    collected_content = []
    
    try:
        async for chunk in agent.astream(
            {"messages": [{"role": "user", "content": sub_question}]},
            {"recursion_limit": recursion_limit},
            stream_mode="updates"
        ):
            # 1. Check for agent messages first
            if "agent" in chunk and isinstance(chunk["agent"], dict):
                for message in chunk["agent"].get("messages", []):
                    if isinstance(message, dict) and message.get("content"):
                        content = message["content"].strip()
                        if content:
                            collected_content.append(content)
            
            # 2. Check for direct output
            if "output" in chunk:
                output = chunk["output"]
                content = output.get("content") if isinstance(output, dict) else getattr(output, "content", None)
                if content and str(content).strip():
                    collected_content.append(str(content).strip())
            
            # 3. Check for any other message formats
            if "messages" in chunk:
                for message in chunk["messages"]:
                    content = message.get("content") if isinstance(message, dict) else getattr(message, "content", None)
                    if content and str(content).strip():
                        collected_content.append(str(content).strip())
    
    except Exception as e:
        logger.warning(f"Agent stopped: {str(e)}")
    
    # Filter and return meaningful content
    unique_content = [
        c for c in collected_content 
        if len(c) > 10 
        and not c.startswith(("I don't know", "Sorry"))
    ]
    
    return "\n\n".join(unique_content) if unique_content else "No information found about this clinical trial."
