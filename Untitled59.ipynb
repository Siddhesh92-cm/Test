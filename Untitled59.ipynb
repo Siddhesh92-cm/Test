TestPromptAPI.test_get_prompts_suc-

self <backend_unit_test_cases.test_prompts. TestPramptAPI object at 0x0000014936590ED>

@pytest.mark.asyncio

async def test get_prompts_success_with_filters(self): ***Test successful prompt retrieval with filters"""

mock request Mock(spec-Request)

mock_request.headers- ("Authorization": "Bearer test_sso_token"}

Expected filtered result that get_filtered_prompts should return expected_prompts - [ { "id": "1", "prompt": "what are the emerging trends in ADC development for oncology, and how might they shap "tags": ["Competitive Intelligence"]. "metadata_info": ["modified_at": "2825-08-11")

1

}

#Mock multiple potential paths where HTTP calls might happen

with patch('backend.controllers.prompts.get_cached_authtoken', return_value="auth_token"), \ patch('backend.services.prompts_utils.get_filtered prompts', return_value-expected_prompts), \ patch("backend.services.prompts_utils.fetch prompts", return_value-expected_prompts), patch('layers.vox components utility.token generator.generate_api_token', return_value="mock_token") patch("backend.services.prompts_utils.httpx.AsyncClient') as mock_client_class, patch('httpx.AsyncClient') as mock_httpx_client:

Setup HTTP client mocks as backup

mock client AsyncMock()

mock client class.return_value._aenter.return_value mock client nock_httpx_client.return_value_senter.return_value mock client mock response Rock() mock response.status code - 200 mock response.json, return value("success": True, "prompts": expected_prompts)

result avait get_prompts(

)

request-mock_request,

keyword="ADC development",

data_products-["Competitive Intelligence"]

assert isinstance(result, SuggestionsResponse)

assert len(result.suggestions)

AssertionErvoer: assert 01

+ where [SuggestionsResponse(suggestions-[], data_products=['Competitive Intelligence'], keyword "ADC development", comt-0).suggestions

E

Is.py

len([])

1

test_prompts.py:97: AssertionError

test prompts.py:97: AssertionError

Captured stderr call

53]: Fetching prompts with keyword='ADC development and

[ data_products=['Competitive Intelligence']

2025-08-12 11:59:10] [INFO] [D:\Users\SONAWT01\Documents\KM_Taks\WICP_Latency_Reduction\vox-knowledge-mining\backend\controllers\prompts.py

[2825-08-12 11:59:10] - [DEBUG] [D:\Users\SONAWT81\Documents\101_Taks\MCP_Latency_Reduction\vox-knowledge-mining\backend\services\prompts_utils.py

203]: Cached filtered results with key: 22eb637f1e985

b3084cb371298351c58

INFO

DEBUG

Captured log call

layers.common.custom_logger:prompts.py:53 Fetching prompts with keyword 'ADC development and data_products-['Competitive Intelligence'] layers.common.custom_logger:prompts_utils.py:203 Cached filtered results with key: 22eb637f1e985b3084cb371290351c58

TestPromptAPI.test_get_prompts_limit_results_to_maciam five_suggestions

self <backend_unit_test_cases.test_prompts.TestPromptAPI object at 0x0000014936592710>

@pytest.mark.asyncio

async def test get_prompts_limit_results_to_maximum_five_suggestions(self):

"""Test prompt retrieval limits suggestions to maximum 5 when more are available"""

mock_request Mock(spec-Request)

mock_request.headers ("Authorization": "Bearer test_sso_token"}

#Create many prompts to test the 5-prompt limit

many_prompts[

"id": str(1),

"prompt": f"Regulatory guidance document (1) for pharmaceutical submissions",

"tags": ["Regulatory & Guidance to Industry"], "metadata info": {"modified_at": f"2025-08-(1:02d)")

for i in range(1,160) # 59 prompts

Mock all potential. HTTP call paths

with patch('backend.controllers.prompts.get_cached_auth_token', return_value-"auth_token"), \ patch('backend.services.prompts_utils.get_filtered_prompts', return value-many_prompts), \ patch('backend.services.prompts_utils.fetch prospts, return_value-sany_prompts), \ patch('layers.vox_components_utility.token generator.generate_api_token', return_value="mock_tok patch('backend.services.prompts_utils.httpx.AsyncClient')as mock_client_class, patch('httpx.AsyncClient') as mock_httpx_client:

Setup HTTP client mocks as backup

mock client AsyncMock()

mock_client_class.return_value._center_.return_value mock_client mock_httpx_client.return_value. aenter.return_value mock_client

mock_response Mock()

mock response.status code

200 mock_response.json.return_value ("success": True, "prompts": many_prompts} mock_client.get.return_value mock_response

result avait get prompts(

request-mock_request,

keyword-None, data_products-None

assert isinstance(result, SuggestionsResponse)

assert len(result.suggestions) Limited to 5


AssertionErvor: assert 4-5

E E + shere 4 len([PromptSuggestion(id-'1', prompt-hat is Paloma 2 trial, data product-['Clinical Documents'], last modified-2025-08-11'), PromptSuggestion(id='2', prompt-'How do genetic m utations contribute to cancer', data product-['Scientific Literature'], last modified 2825-03-11'), PromptSuggestion(id-'3', prompt-'that are the emerging trends in ADC development for oncology", data pe oduct-[Competitive Intelligence'], last modified 2025-09-11'), PromptSuggestion(id-'4', prompt-'What was the nost common type of misclassification in the stratification factors', data product-['Regulato ry & Guidance to Industry'), last modified 2025-08-11')])

y

E + where [Prompt Suggestion(id='1', prompt-What is Paloma 2 trial', data_product-['Clinical Documants'], last modified 2025-08-11'), PromptSuggestion(id='2', prompt 'How do genetic mutatio ns contribute to cancer', data product-['Scientific Literature'), last modified-2025-08-11), PromptSuggestion(id-'3', prompt-ihat are the exerging trends in ADC development for ancology', data_product-['Competitive Intelligence'], last_modified-2025-63-11'), PromptSuggestion(id-'4', prompt-idiat was the most comun type of misclassification in the stratification factors', data_product=['Regulatory & G uldance to Industry'], last modified-2025-08-11')] SuggestionsResponse(suggestions-[PromptSuggestion(id-'1', prompt-idiat is Paloma 2 trial', data product-['Clinical Documents'], last_modified-2025-08 -11'), PromptSuggestion (id-2', prompt-How do genetic mutations contribute to cancer, data product-['Scientific Literature'], last modified-2025-08-11), PromptSuggestion(id-'3', prompt-ihat are the e merging trends in ADC development for oncology', data product-['Competitive Intelligence'], last modified-2025-08-11'), PromptSuggestion(id='4', prompt-What was the most common type of misclassification in the stratification factors', data product['lRegulatory & Guidance to Industry'), last modified-2025-08-11')], data_ products-lone, keyword-None, count-4).suggestions

test_prompts.py:245: AssertionError

Captured stderr call... [2025-08-12 11:59:10] - [INFO] [D:\Users\SONAWT01 \Documents\KM_Taks\VICP_Latency_Reduction\vax-knowledge-mining\backend\controllers\prompts.py53]:

Fetching prompts with keyword="None" and data_produc

tils.py

INFO

ts-None [2025-08-12 [2825-08-12

11:59:10] [DEBUG] [D:\Users\SONAWT01\Documents\IM_Taks\WCP_Latency_Reduction\vox-knowledge-mining\backend\services\prompts_utils.py 190 11:59:10] [INFO] [D:\Users\SONAWTB1\Documents\KM_Taks WCP_Latency_Reduction\vox-knowledge-mining\backend\controllers\prompts.py84]: Filtered 4

]: Returning cached filtered results prompts

layers.common.custom_logger:prompts.py:53 Fetching prompts with keyword-"None" and data products-None layers.common.custom_logger:prompts_utils.py: 190 Returning cached filtered results

Captured log call

DEBUG INFO

layers.common.custom_logger:prompts.py:84 Filtered 4 prompts

short test summary info

FAILED test prompts.py::TestPromptAPI::test_get_prompts_success_with_filters AssertionError: assert 0-1

FAILED test prompts.py:: TestPromptAPI::test_get_prompts_limit_results_to_maximm_five_suggestions - AssertionError: assert 4 - 5

2 failed, 18 passed in 1.39s
