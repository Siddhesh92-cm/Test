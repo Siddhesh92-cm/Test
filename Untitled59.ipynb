async def run_agent_and_collect(agent: Any, sub_question: str) -> str:
    """Preserves all data before recursion limit hits without other changes"""
    all_chunks = []
    collected_content = []
    recursion_error = False
    
    try:
        async for chunk in agent.astream(
            {"messages": [{"role": "user", "content": sub_question}]},
            {"recursion_limit": 5},  # Only added this parameter
            stream_mode="updates"
        ):
            all_chunks.append(chunk)
            logger.info(f"Agent step chunk: {chunk}")

            # Original content extraction logic (unchanged)
            latest_content = None
            
            # Method 1: Agent messages
            agent_data = chunk.get("agent", {})
            messages = agent_data.get("messages", []) if isinstance(agent_data, dict) else []
            for msg in messages:
                content = getattr(msg, "content", None) or (msg.get("content") if isinstance(msg, dict) else None)
                if content and len(content.strip()) > 50:
                    collected_content.append(content.strip())
                    latest_content = content
            
            # Method 2: Output content
            if not latest_content:
                output = chunk.get("output")
                if output:
                    content = getattr(output, "content", None) or (output.get("content") if isinstance(output, dict) else None
                    if content and len(content.strip()) > 50:
                        collected_content.append(content.strip())
                        latest_content = content
            
            # Method 3: General messages
            if not latest_content:
                messages = chunk.get("messages", [])
                if isinstance(messages, list):
                    for msg in messages:
                        content = getattr(msg, "content", None) or (msg.get("content") if isinstance(msg, dict) else None
                        if content and len(content.strip()) > 50:
                            collected_content.append(content.strip())
                            latest_content = content
            
            # Method 4: Raw chunk data
            if not latest_content and isinstance(chunk, dict):
                for value in chunk.values():
                    if isinstance(value, str) and len(value.strip()) > 100:
                        collected_content.append(value.strip())
                        latest_content = value
                        break

    except Exception as e:
        logger.warning(f"Agent execution interrupted: {str(e)}")
        if "recursion limit" in str(e).lower():
            recursion_error = True

    # Only return collected content if we hit recursion limit
    if recursion_error and collected_content:
        seen = set()
        unique_content = [x for x in collected_content if not (x in seen or seen.add(x))]
        return "\n\n".join(unique_content)
    
    # Original return logic (unchanged)
    if latest_content:
        logger.info(f"Successfully extracted content with {len(latest_content)} characters")
        return latest_content
    
    logger.warning("No substantial content found in agent execution")
    return "No information found about this clinical trial."
