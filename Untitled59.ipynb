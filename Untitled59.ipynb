def filter_and_sort_prompts(
    prompts: List[dict],
    tags: Optional[List[str]] = None,
    keyword: Optional[str] = None,
    sort_by: str = "modified_at",
) -> List[dict]:
    """Optimized filter and sort with O(n) complexity for keyword case."""
    
    if not prompts:
        return []

    filtered = prompts
    
    # Tag filtering: O(n * m) where m is avg tags per prompt
    if tags:
        tags_lower = {tag.strip().lower() for tag in tags if tag.strip()}
        if tags_lower:
            filtered = [
                p for p in filtered 
                if any(t.lower() in tags_lower for t in p.get("tags", []))
            ]
            if not filtered:  # Early exit
                return []

    # Keyword filtering and scoring: Single O(n) pass
    if keyword:
        keyword_lower = keyword.lower()
        scored_prompts = []
        for p in filtered:
            prompt_text = p.get("prompt", "").lower()
            if keyword_lower in prompt_text:
                # Calculate score in single pass
                count = prompt_text.count(keyword_lower)
                starts_with = 10 if prompt_text.startswith(keyword_lower) else 0
                modified = (p.get("metadata_info", {}).get("modified_at") or 
                          p.get("modified_at", ""))
                scored_prompts.append((count + starts_with, modified, p))
        
        if not scored_prompts:
            return []
        
        # Return sorted by score then date - O(k log k) where k is filtered prompts
        return [p for _, _, p in sorted(
            scored_prompts, 
            key=lambda x: (-x[0], x[1])  # Negative for descending
        )]
    
    # Default sorting - O(n log n)
    if sort_by == "modified_at":
        filtered.sort(
            key=lambda x: x.get("metadata_info", {}).get("modified_at") or 
                         x.get("modified_at", ""),
            reverse=True
        )
    else:
        filtered.sort(key=lambda x: x.get(sort_by, ""), reverse=True)
    
    return filtered
