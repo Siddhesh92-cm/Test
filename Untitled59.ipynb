async def run_agent_and_collect(agent: Any, sub_question: str) -> str:
    """Minimal modification to handle recursion limits while preserving existing behavior"""
    all_chunks = []
    collected_content = []
    
    try:
        # Added recursion_limit parameter while keeping all other streaming logic identical
        async for chunk in agent.astream(
            {"messages": [{"role": "user", "content": sub_question}]},
            {"recursion_limit": 5},  # Only added this parameter
            stream_mode="updates"
        ):
            all_chunks.append(chunk)
            logger.info(f"Agent step chunk: {chunk}")

            # Keep all existing content extraction logic exactly as-is
            latest_content = None
            
            # Method 1: Agent messages (unchanged)
            agent_data = chunk.get("agent", {})
            messages = agent_data.get("messages", []) if isinstance(agent_data, dict) else []
            for msg in messages:
                content = getattr(msg, "content", None) or (msg.get("content") if isinstance(msg, dict) else None)
                if content and len(content.strip()) > 50:
                    collected_content.append(content.strip())  # Only added this line
                    latest_content = content
            
            # Method 2: Output content (unchanged)
            if not latest_content:
                output = chunk.get("output")
                if output:
                    content = getattr(output, "content", None) or (output.get("content") if isinstance(output, dict) else None)
                    if content and len(content.strip()) > 50:
                        collected_content.append(content.strip())  # Only added this line
                        latest_content = content
            
            # Method 3: General messages (unchanged)
            if not latest_content:
                messages = chunk.get("messages", [])
                if isinstance(messages, list):
                    for msg in messages:
                        content = getattr(msg, "content", None) or (msg.get("content") if isinstance(msg, dict) else None)
                        if content and len(content.strip()) > 50:
                            collected_content.append(content.strip())  # Only added this line
                            latest_content = content
            
            # Method 4: Raw chunk data (unchanged)
            if not latest_content and isinstance(chunk, dict):
                for value in chunk.values():
                    if isinstance(value, str) and len(value.strip()) > 100:
                        collected_content.append(value.strip())  # Only added this line
                        latest_content = value
                        break

    except Exception as e:
        logger.warning(f"Agent execution interrupted: {str(e)}")
        # When recursion limit hits, we'll have content in collected_content

    # Only return collected content if we hit recursion limit
    if "recursion limit" in str(e).lower() and collected_content:
        seen = set()
        unique_content = [x for x in collected_content if not (x in seen or seen.add(x))]
        return "\n\n".join(unique_content)
    
    # Keep all original return logic unchanged
    if latest_content:
        logger.info(f"Successfully extracted content with {len(latest_content)} characters")
        return latest_content
    
    logger.warning("No substantial content found in agent execution")
    return "No information found about this clinical trial."
