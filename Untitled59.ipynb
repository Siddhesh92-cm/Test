Coverage HTML written to dir htmlcov

short test summary info

FAILED test_prompts_utils.py::TestHelperFunctions::test_fetch_prompts_from_cache - Failed: async def functions are not natively supported.

FAILED test prompts_utils.py::TestHelperFunctions::test_fetch_prompts_force_refresh Failed: async def functions are not natively supported.

FAILED test_prompts_utils.py:: TestHelperFunctions::test_fetch_prompts_api_success Failed: async def functions are not natively supported.

FAILED test prompts_utils.py::TestHelperFunctions::test_fetch_prompts_api_failure_with_cache Failed: async def functions are not natively supported.

FAILED test_prompts_utils.py:: TestHelperFunctions::test_fetch_prompts_timeout_with_cache - Failed: async def functions are not natively supported. FAILED test_prompts_utils.py::TestHelperFunctions::test_fetch_prompts_timeout_no_cache Failed: async def functions are not natively supported.

FAILED test prompts_utils.py::TestHelperFunctions::test_fetch_prompts_request_error_no_cache Failed: async def functions are not natively supported. FAILED test_prompts_utils.py::TestHelperFunctions::test_fetch_prompts_general_exception_with_cache - Failed: async def functions are not natively supported.

FAILED test prompts_utils.py:: TestHelperFunctions::test_fetch_prompts_general_exception_no_cache Failed: async def functions are not natively supported.

FAILED test_prompts_utils.py::TestHelperFunctions::test_get_filtered_prompts_from_cache Failed: async def functions are not natively supported. FAILED

test prompts_utils.py:: TestHelperFunctions::test_get_filtered_prompts_fresh_data Failed: async def functions are not natively supported. FAILED test prompts_utils.py::TestHelperFunctions::test_fetch_prompts_handles_empty_response Failed: async def functions are not natively supported.

FAILED test_prompts_utils.py:: TestHelperFunctions::test_fetch_prompts_token_header formation Failed: async def functions are not natively supported.
