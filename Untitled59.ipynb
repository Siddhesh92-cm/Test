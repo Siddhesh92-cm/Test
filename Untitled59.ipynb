async def run_agent_and_collect(agent: Any, sub_question: str, recursion_limit: int = 10) -> str:
    """Run the agent and collect all meaningful content, handling recursion limits gracefully."""
    collected_content = []
    steps = 0
    
    try:
        async for chunk in agent.astream(
            {"messages": [{"role": "user", "content": sub_question}]},
            {"recursion_limit": recursion_limit},
            stream_mode="updates"
        ):
            steps += 1
            logger.debug(f"Agent step {steps}: {chunk}")
            
            # Extract content from different possible locations
            content = None
            if "agent" in chunk and "messages" in chunk["agent"]:
                for msg in chunk["agent"]["messages"]:
                    if msg.get("content"):
                        content = msg["content"]
                        break
            
            if not content and "output" in chunk:
                content = chunk["output"].get("content") if hasattr(chunk["output"], "get") else getattr(chunk["output"], "content", None)
            
            if content and content.strip():
                collected_content.append(content.strip())
                
            # Early termination if we're repeating ourselves
            if len(collected_content) > 2 and collected_content[-1] == collected_content[-2]:
                logger.info("Detected repetitive output - ending early")
                break
    
    except Exception as e:
        logger.warning(f"Agent execution stopped: {str(e)}")
    
    # Return all meaningful content joined together
    if not collected_content:
        return "No information found about this clinical trial."
    
    # Filter out repetitive or unhelpful messages
    unique_content = []
    for item in collected_content:
        if item not in unique_content and len(item) > 10 and not item.startswith("I don't know"):
            unique_content.append(item)
    
    return "\n\n".join(unique_content[-3:])  # Return last 3 unique items
