async def _execute_research_item(
    research_item: Dict[str, Any], 
    agent_executor, 
    server_type: ServerType, 
    context: str
) -> Dict[str, Any]:
    """Execute research item using ainvoke with full data capture"""
    try:
        prompt_template = PromptManager.get_prompts(server_type).get("research_execution")
        prompt = prompt_template.format(
            research_item=json.dumps(research_item), 
            context=context
        )
        
        # Use ainvoke but with callback to capture intermediate steps
        intermediate_results = []
        
        def capture_steps(step):
            if hasattr(step, 'input') and hasattr(step, 'output'):
                intermediate_results.append({
                    'input': step.input,
                    'output': step.output
                })
            elif isinstance(step, dict):
                intermediate_results.append(step)
        
        result = await agent_executor.ainvoke(
            {"messages": [{"role": "user", "content": prompt}]},
            {"recursion_limit": RECURSION_LIMIT, "callbacks": [capture_steps]}
        )
        
        # Process all intermediate steps + final result
        all_content = []
        
        # 1. Get intermediate outputs
        for step in intermediate_results:
            if isinstance(step, dict) and 'output' in step:
                content = step['output'].get('content') if isinstance(step['output'], dict) else getattr(step['output'], 'content', '')
                if content:
                    all_content.append(str(content))
        
        # 2. Get final result
        final_output = result.get('output', result)
        final_content = final_output.get('content') if isinstance(final_output, dict) else getattr(final_output, 'content', '')
        if final_content:
            all_content.append(str(final_content))
        
        # Find the last valid JSON output
        for content in reversed(all_content):
            try:
                parsed = extract_and_parse_json(content)
                if parsed:
                    return parsed
            except:
                continue
                
        return {
            "sub_question": research_item.get("question", ""),
            "answer": "Research incomplete" if all_content else "No results found"
        }
        
    except Exception as e:
        logger.error(f"Research failed for {research_item.get('question')}: {str(e)}")
        return {
            "sub_question": research_item.get("question", ""),
            "answer": f"Research error: {str(e)}"
        }
