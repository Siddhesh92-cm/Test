import pandas as pd
import requests
import json
from tqdm import tqdm  # for progress bar

def delete_prompts_from_excel(file_path, version=None):
    """
    Delete prompts listed in an Excel file
    
    Args:
        file_path (str): Path to Excel file containing prompt IDs
        version (int, optional): Specific version to delete. None for all versions.
    """
    # Read Excel file
    try:
        df = pd.read_excel(file_path)
        if 'id' not in df.columns:
            print("Error: Excel file must contain an 'id' column")
            return
        
        prompt_ids = df['id'].tolist()
    except Exception as e:
        print(f"Error reading Excel file: {str(e)}")
        return

    # API configuration
    base_url = "https://url/v2/prompt/"  # Update with your base URL
    headers = {
        "x-auth": "Bearer 626272o1ob",
        "Content-Type": "application/json"
    }
    
    params = {"version": version} if version else None
    
    # Track results
    results = []
    
    # Process each ID with progress bar
    for prompt_id in tqdm(prompt_ids, desc="Deleting prompts"):
        try:
            response = requests.delete(
                f"{base_url}{prompt_id}",
                headers=headers,
                params=params
            )
            
            result = {
                "id": prompt_id,
                "status": response.status_code,
                "success": response.status_code == 200,
                "response": response.json() if response.content else None
            }
            
        except Exception as e:
            result = {
                "id": prompt_id,
                "status": "ERROR",
                "success": False,
                "response": str(e)
            }
        
        results.append(result)
    
    # Generate report
    report_df = pd.DataFrame(results)
    
    # Save results to new Excel file
    output_file = "delete_prompts_report.xlsx"
    report_df.to_excel(output_file, index=False)
    
    print(f"\nDeleted {len([r for r in results if r['success'])}/{len(prompt_ids)} prompts")
    print(f"Detailed report saved to {output_file}")

# Usage example
delete_prompts_from_excel("prompts_to_delete.xlsx", version=None)
