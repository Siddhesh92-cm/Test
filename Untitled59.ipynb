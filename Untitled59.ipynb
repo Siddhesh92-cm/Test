:

8-21 12:07:20] - [ERROR] [/home/runner/work/vox-knowledge-mining/vox-knowledge-mining/backend/controllers/prompts.py - 112 ]:

pected error occurred:

eback (most recent call last):

le "/home/runner/work/vox-knowledge-mining/vox-knowledge-mining/backend/controllers/prompts.py", line 87, in get_prompts

limit = min(int(PROMPT_DISPLAY_LIMIT), len (filtered_prompts))

eError: int() argument must be a string, a bytes-like object or a real number, not 'NoneType'

FO

Captured log call

layers.common.custom_logger:prompts.py:53 Fetching prompts with keyword='None' and data_products-None

layers.common.custom_logger:prompts.py:84 Filtered 59 prompts

ROR

layers.common.custom_logger:prompts.py:112 Unexpected error occurred:

