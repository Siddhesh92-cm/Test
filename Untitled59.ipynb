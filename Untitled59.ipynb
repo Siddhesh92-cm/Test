async def run_agent_and_collect(agent: Any, sub_question: str) -> str:
    """Original code with critical fixes for content collection"""
    recursion_limit = 2
    all_chunks = []
    
    async for chunk in agent.astream(
        {"messages": [{"role": "user", "content": sub_question}]},
        {"recursion_limit": recursion_limit},
        stream_mode="updates"
    ):
        all_chunks.append(chunk)
        logger.info(f"Agent step chunk: {chunk}")

    # FIX 1: Collect ALL content from ALL chunks, not just last one
    all_content = []
    for chunk in all_chunks:
        # Check agent messages
        agent_data = chunk.get("agent", {})
        messages = agent_data.get("messages", []) if isinstance(agent_data, dict) else []
        for msg in messages:
            content = msg.get("content") if isinstance(msg, dict) else getattr(msg, "content", None)
            if content and str(content).strip():
                all_content.append(str(content).strip())
        
        # Check output
        output = chunk.get("output")
        if output:
            content = output.get("content") if isinstance(output, dict) else getattr(output, "content", None)
            if content and str(content).strip():
                all_content.append(str(content).strip())

    # FIX 2: Return ALL collected content if any exists
    if all_content:
        return "\n".join([c for c in all_content if len(c) > 10])  # Filter very short messages
    
    return "No information found about this clinical trial."
