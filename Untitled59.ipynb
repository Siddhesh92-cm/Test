@router.get(

)

"list",

status_code-status.HTTP_200_OK,

tags-["Prompts"],

description-"Get top i prompts according to Data Product and Key word",

response_model-Suggestions Response,

async def get prompts(

request: Request,

keyword: Optional[str] - Query(

). None, min length-1, description="Search term to filter prompts"

data_products: Optional [List[str]] - Query(

IMS

None, description-"List of data products to filter by", alias-"data_product"

start time tine.time()

try:

logger.info(

"Fetching prompts with keyword='%s' and data_products-ks", keyword,

data products,

Validate authorization header

authorization request.headers.get("Authorization")

#if not authorization or len(authorization) <7:

raise HTTPException(

status code-401,

detail-"Missing or invalid authorization header"

sso_token ="166363" #authorization[7:]

Generate auth token (consider caching this too)

auth token generate_api_token(

PINGFEDERATE URL,BQC CLIENT ID, BQC CLIENT SECRET
)

Fetch all prompts (now async)

all prompts await fetch_prompts(sso_token, auth_token)

#Early return if no prompts

if not all prompts:

return SuggestionsResponse( ) suggestions-[], data_products-data_products, keyword-keyword, count-B,

#Filter and sort prompts

filtered_prompts filter_and_sort_prompts( ) prompts-all_prompts, tags-data_products, keyword-keyword

logger.info(f"Filtered (len(filtered_prompts)) prompts from (len(all_prompts)) total")

#Limit results early to avoid unnecessary processing

limit min(int(PROMPT_DISPLAY_LIMIT), len (filtered_prompts))

limited_prompts filtered_prompts[:limit]

Format response with consistent data access

suggestions - [

PromptSuggestion

Id-p.get("id", ""),

prompt-p.get("prompt", ""),

data_product-p.get("tags", []).

last modified-p.get("metadata_info", {}).get("modified_at") or p.get("modified_at", ""),

I

for p in limited_prompts

1 end time time.time()

print("Execution time: (end time start_time)")

return SuggestionsResponse(

) suggestions-suggestions, data_products-data_products, keyword-keyword, count-len (filtered_prompts), Total count before limiting

except HTTPException:

raise

except Exception as e:

logger.exception("Unexpected error occurred:") raise HTTPException(status_code-500, detail="Internal server error")

@router.get("/health")

async def health_check(): return {"status": "healthy"}
