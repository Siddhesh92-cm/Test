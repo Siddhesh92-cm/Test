Coverage HTML written to dir htmlcov

short test summary info

FAILED test_prompts_utils.py::TestHelperFunctions::test_fetch_prompts_from_cache - Failed: async def functions are not natively supported.

FAILED test prompts_utils.py::TestHelperFunctions::test_fetch_prompts_force_refresh Failed: async def functions are not natively supported.

FAILED test_prompts_utils.py:: TestHelperFunctions::test_fetch_prompts_api_success Failed: async def functions are not natively supported.

FAILED test prompts_utils.py::TestHelperFunctions::test_fetch_prompts_api_failure_with_cache Failed: async def functions are not natively supported.

FAILED test_prompts_utils.py:: TestHelperFunctions::test_fetch_prompts_timeout_with_cache - Failed: async def functions are not natively supported. FAILED test_prompts_utils.py::TestHelperFunctions::test_fetch_prompts_timeout_no_cache Failed: async def functions are not natively supported.

FAILED test prompts_utils.py::TestHelperFunctions::test_fetch_prompts_request_error_no_cache Failed: async def functions are not natively supported. FAILED test_prompts_utils.py::TestHelperFunctions::test_fetch_prompts_general_exception_with_cache - Failed: async def functions are not natively supported.

FAILED test prompts_utils.py:: TestHelperFunctions::test_fetch_prompts_general_exception_no_cache Failed: async def functions are not natively supported.

FAILED test_prompts_utils.py::TestHelperFunctions::test_get_filtered_prompts_from_cache Failed: async def functions are not natively supported. FAILED

test prompts_utils.py:: TestHelperFunctions::test_get_filtered_prompts_fresh_data Failed: async def functions are not natively supported. FAILED test prompts_utils.py::TestHelperFunctions::test_fetch_prompts_handles_empty_response Failed: async def functions are not natively supported.

FAILED test_prompts_utils.py:: TestHelperFunctions::test_fetch_prompts_token_header formation Failed: async def functions are not natively supported.


// NEW
Coverage HTML written to dir htmlcov

short test summary info

FAILED test_prompts_utils.py:: TestHelperFunctions::test_fetch_prompts_from_cache - Failed: async def functions are not natively supported.

FAILED test prompts_utils.py:: TestHelperFunctions::test_fetch_prompts_force_refresh - Failed: async def functions are not natively supported. Failed: async def functions are not natively supported.

FAILED test prompts_utils.py::TestHelperFunctions::test_fetch_prompts api success

FAILED test_prompts_utils.py:: TestHelperFunctions::test_fetch_prompts_api_failure with_cache Failed: async def functions are not natively supported. FAILED test prompts_utils.py:: TestHelperFunctions::test_fetch_prompts_timeout_with_cache - Failed: async def functions are not natively supported.

FAILED test prompts utils.py:: TestHelperFunctions::test_fetch_prompts_timeout_no_cache Failed: async def functions are not natively supported FAILED test prompts_utils.py:: TestHelper Functions: test fetch prompts request error no cache - Failed: async def functions are not natively supported. FAILED test prompts_utils.py:: TestHelperFunctions: test fetch prompts general exception with cache Failed: async def functions are not natively supported.

main.....

FAILED test prompts_utils.py::TestHelperFunctions::est fettered penes exception no cache - Failed: async def functions are not natively supported FAILED test prompts utils.py:: TestHelperFunctions:: test get filtered prompts from cache Failed: async def functions are not natively supported.

FAILED test prompts_utils.py::TestHelperFunctions::teilt_get_filtered_prompts_fresh data Failed: async def functions are not natively supported.


// N
TestHelperFunctions.test_filter_and_sort_prompts_keyword_scoring

self = <backend_unit_test_cases.test_prompts_utils. TestHelperFunctions object at 0x00000167E4ED0810>

def test_filter_and_sort_prompts_keyword_scoring(self):

"""Test keyword filtering with scoring"""

prompts = [

{"id": "1", "prompt_lower": "adc development trends overview", "_modified_at": "2025-08-10"},

{"id": "2", "prompt_lower": "emerging trends in adc development for oncology and adc therapies", "_modified_at": "2025-08-11"}

result = filter_and_sort_prompts_optimized(prompts, keyword="adc")

assert len(result) - 2

assert result[0]["id"] = "2" # Higher score (3 occurrences)

AssertionError: assert '1' = '2'

2

1

EEE

test_prompts_utils.py:235: AssertionError

TestHelperFunctions.test_fetch_prompts_api_failure_no_cache

self <backend_unit_test_cases.test_prompts_utils. TestHelperFunctions object at ex00000167E6288ADB>

A

@pytest.mark.asyncio

async def test fetch_prompts_api_failure_no_cache(self):

E

"""Test API failure without cache"""

#Clear cache

prompt_cache.clear()

mock_response_data {"success": False, "message": "API Error")

mock_response Mock()

mock_response.json.return_value mock_response_data

mock_response.raise_for_status.return_value - None

with patch('httpx.AsyncClient') as mock_client:

mock_client.return_value.__aenter_.return_value.get - AsyncMock(return_value-mock_response)

with pytest.raises (HTTPException) as exc_info: await fetch prompts("sso_token", "auth_token")

assert exc info.value.status code 400

AssertionError: assert 500 400

+ where 500 - ΗITPException(status_code-500, detail-'400: API Error").status_code

+

where HTTPException(status_code-500, detail='400: API Error") = <ExceptionInfo HITPException(status_code-500, detall-400: API Errar') tblen-2>.value

test prompts_utils.py:431: AssertionError

// E
FAILED test_prompts.py::TestPromptAPI::test_get_cached_auth_token_generate_new - AssertionError: assert '0001CqgZkisSK7YuVGhZmoC25usm' == 'new_token_456 FAILED test prompts.py::TestPromptAPI::test_get_prompts_success_with_filters - fastapi.exceptions.HTTPException: 500: [lient error '401 Unauthorized' for url 'https://

prompt-library-v1/v2/prompts' FAILED test_prompts.py:: TestPromptAPI::test_get_prompts_no_results - fastapi.exceptions.HTTPException: 500: Client error '401 Unauthorized' for url 'https://mule4api-com

rary-v1/v2/prompts' FAILED test_prompts.py::TestPromptAPI::test_get_prompts_no_filters - fastapi.exceptions.HTTPException: 500: Client error '401 Unauthorized' for url 'https://mule4api-com

rary-v1/v2/prompts' FAILED test_prompts.py:: TestPromptAPI::test_get_prompts_limit_results_to_maximum_five_suggestions - fastapi.exceptions.HTTPException: 500: Client error '401 Unauthorized

tg.pfizer.com/vessel-prompt-library-v1/v2/prompts"

400 FAILED test_prompts.py::TestPromptAPI::test_get_prompts_http_exception_passthrough - assert 500

FAILED test prompts.py:: TestPromptAPI::test_get_prompts_with_fallback_modified_at - fastapi.exceptions.HTTPException: 500: Client error '401 Unauthorized for url 'https:

ssel-prompt-library-v1/v2/prompts' FAILED test_prompts.py::TestPromptAPI::test_get_prompts_with_empty_metadata_info - fastapi.exceptions.HTTPException: 500: Client error '401 Unauthorized' for url 'https://sel-prompt-library-v1/v2/prompts'

FAILED test_prompts.py::TestPromptAPI::test_get_prompts_with_missing fields - fastapi.exceptions.HTTPException: 500: Client error '401 Unauthorized' for url 'https://mule4a rompt-library-v1/v2/prompts'

FAILED test_prompts.py:: TestPromptAPI::test_get_prompts_calls_correct_functions - fastapi.exceptions.HTTPException: 500:

// NNNN
LED test_prompts.py::TestPromptAPI::test_get_cached_auth_token_generate_new AssertionError: assert '0001fxm0jiZHG12Q2B7IQxJR6BWP' 'new_token_456'

LED test_prompts.py:: TestPromptAPI::test_get_prompts_success_with_filters fastapi.exceptions.HTTPException: 500: Client error '401 Unauthorized for url 'https://mule4api-comm-amer-

ompt-library-v1/v2/prompts ILED test prompts.py:: TestPromptAPI::test_get_prompts_no_results - fastapi.exceptions.HTTPException: 500: Client error '401 Unauthorized' for url 'https://mule4api-comm-amer-stg.pfizer-

ry-v1/v2/prompts'

AILED test_prompts.py::TestPromptAPI::test_get_prompts_no_filters - fastapi.exceptions.HTTPException: 500: Client error '401 Unauthorized' for url 'https://mule4api-comm-amer-stg.pfizer.

ary-v1/v2/prompts'

BAILED test prompts.py::TestPromptAPI::test_get_prompts_limit_results_to_maximum_five_suggestions - fastapi.exceptions.HTTPException: 500: Client error '401 Unauthorized' for url 'https://

g.pfizer.com/vessel-prompt-library-v1/v2/prompts'

FAILED test prompts.py::TestPromptAPI::test_get_prompts_http_exception_passthrough assert 500 == 400

FAILED test prompts.py::TestPromptAPI::test_get_prompts_with_fallback_modified_at - fastapi.exceptions.HTTPException: 500: Client error '401 Unauthorized' for url 'https://mule4api-comm-ame

ssel-prompt-library-v1/v2/prompts"

FAILED test prompts.py:: TestPromptAPI::test_get_prompts_with_empty_metadata_info - fastapi.exceptions.HTTPException: 500: Client error '401 Unauthorized for url 'https://mule4api-comm-amer

FAILED test_prompts.py:: TestPromptAPI::test_get_prompts_with_missing fields - fastapi.exceptions.HTTPException: 500: Client error '401 Unauthorized* for url "https://mule4api-comm-amer-stg. sel-prompt-library-v1/v2/prompts" rompt-library-v1/v2/prompts"

FAILED test prompts.py:: Test PromptAPI::cand prompts_calls_correct_functions - fastapi.exceptions.HTTPException: 500: Client error '401 Unauthorized for url 'https://mule4api-commm-amer-s


// rdjbipudfbnm

FAILED test prompts.py:: TestPromptAPI::test_get_prompts_success_with_filters fastapi.exceptions.HTTPException: 500: 'coroutine' object has no attribute 'get' FAILED test prompts.py::TestPromptAPI::test_get_prompts_no_results fastapi.exceptions.HTTPException: 500: 'coroutine' object has no attribute 'get'

FAILED test prompts.py:: TestPromptAPI:: test_get_prompts_no_filters fastapi.exceptions.HTTPException: 500: 'coroutine' object has no attribute 'get'

FAILED test prompts.py::TestPromptAPI::test_get_prompts_limit_results_to_maximum_five_suggestions fastapi.exceptions.HTTPException: 500: 'coroutine' object has no attribute 'get'

FAILED test prompts.py::TestPromptAPI::test_get_prompts_unexpected_exception assert "coroutine'...tribute 'get'" 'Internal server error' FAILED test_prompts.py:: TestPrompt API:: test_suggestions_response_creation TypeError: BaseModel. __init__() takes 1 positional argument but 5 were given


//6861168486484
TestPromptAPI.test_get_cached_auth_token_generate_new

ly_migrations.sh

v.bxt

cases

self <backend_unit_test_cases.test_prompts. TestPromptAPI object at 0x000001973AFA8800>

@pytest.mark.asyncio

async def test get_cached_auth_token_generate_new(self): **"Test generating new auth token when cache is empty"""

auth_token_cache.clear()

#Mock the token generator function directly

with patch('layers.vox_components_utility.token_generator.generate_api_token', return_value="new_token_456"): result await get_cached_auth_token()

assert result == "new_token_456"

AssertionError: assert '0001H1BvuGd2IsJTitKytcmIRYk1 'new_token_456'

new_token 456

I

+ 0001HIBvvGd21sJitkytomIRYk1

tils.py

y

U

test prompts.py:52: AssertionError

TestPromptAPI.test_get_prompts_success_with_filters

sso_token = 'test_sso_token', auth_token= 'auth_token', force_refresh= False

migrations.sh

t

ases

async def fetch prompts(

sso_token: str, auth_token: str, force_refresh: bool False

) -> List[dict]:

"""Fetch prompts from the Vox library with TTL caching"""

cache_key"all_prompts"

#Check cache (TTLCache handles TTL automatically)

if not force_refresh and cache_key in prompt_cache: logger.debug("Returning cached prompts")

return prompt_cache[cache_key]

logger.info("Fetching fresh prompts from library")

headers = (

}

"x-auth": f"Bearer {sso_token}", "Authorization": f"Bearer (auth_token}", "User-Agent": "PharmaResearch-ChatBot/1.0",

ils.py

U

U

try:

async with httpx.AsyncClient( timeout-httpx.Timeout(30.6, read-60.0), limits-httpx.Limits(max_connections-10),

) as client:

response aait client.get(PROMPT_LIBRARY_URL, headers-headers) response.raise_for_status()

..\backend\services\prompts_utils.py:122:


####
TestPromptAPI.test_get_prompts_success_with_filters

sso_token 'test sso_token', auth_token 'auth_token', force_refresh False

async def fetch prompts(

sso token: str, auth token: str, force_refresh: bool - False

)-> List[dict]:

"""Fetch prompts from the Vox library with TTL caching"""

cache_key"all_prompts"

migrations.sh

FAILURES

#Check cache (TTLCache handles TTL automatically) if not force_refresh and cache_key in prompt_cache: logger.debug("Returning cached prompts") return prompt_cache[cache_key]

logger.info("Fetching fresh prompts from library")

headers = { } "x-auth": f"Bearer (sso_token}", "Authorization": f"Bearer (auth_token}", "User-Agent": "PharmaResearch-ChatBot/1.0",

es

by

U

U

E

try:

async with httpx.AsyncClient( timeout-httpx.Timeout(30.0, read-60.0), limits-httpx.Limits(max_connections-10), ) as client: response await client.get(PROMPT_LIBRARY_URL, headers-headers) response.raise_for_status()

data response.json()

If not data.get("success", False):

AttributeError: 'list' object has no attribute 'get'

..\backend\services\prompts_utils.py:126: AttributeError
