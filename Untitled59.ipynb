Test Prompt API. test get_prompts_success_with_filters

self <backend_unit_test_cases.test_prompts.TestPromptAPI object at 0x0000025011841610>

tions.sh

@pytest.mark.asyncio

async def test get_prompts_success_with_filters(self): **""Test successful prompt retrieval with filters***

mock_request - Mock(spec-Request)

mock_request.headers = {"Authorization": "Bearer test_sso_token")

# Mock the HTTP client at the prompts_utils level to prevent real API calls

with patch('backend.controllers.prompts.get_cached_auth_token', return_value="auth_token"), \ patch('backend.services.prompts_utils.httpx.AsyncClient") as mock_client_class:

#Setup the mock HTTP client

mock_client = AsyncMock()

mock_client_class.return_value_enter.return_value = mock_client

#Mock the HTTP response

mock response Mock()

mock_response.status_code = 200

mock_response.json.return_value = {

"success": True,

"prompts": [

{

U

}

1

}

"id": "1",

"prompt": "what are the emerging trends in ADC development for oncology, and how might they shape the future of cancer treatment",

"tags": ["Competitive Intelligence"],

"metadata_info": {"modified_at": "2025-08-11"}

mock_client.get.return_value

mock_response


resultaait get_prompts(

)

request-mock request, keyword"ADC development",

data_products-["Competitive Intelligence"]

assert isinstance(result, SuggestionsResponse)

AssertionError: assert 9-1

assert len(result.suggestions) - 1

shere - len([])

test prompts.py:93: AssertionError

shere [] - Suggestionsitesponse(suggestions-[], data_products-["Competitive Intelligence'], keyword 'ADC development",

Captured stderr call ...... 25-08-11 21:34:43] [DF]] [D:\Users\SONWT01\Documents\H_Taks\WCP_Latency_Reduction\vox-knowledge-mining\backend\cont products-[Competitive -11 21:34:43] [INFO] -controllers\prompts.py 53 ]: hing prom

21:34:43]-[DIFO] - [D:\Users\SONAWT01\Documents\CH_Taks \ICP_Latency_Reduction\vox-know 21:34:43) ces\prompts utils.py -(D:\Users\Set Documents\UH_Taks VMCP_Latency_Reduction\vox-knowledge-mining\backend\services\ [DEBUG] - [D:\Users\SOWW/Te1\Documents\AM_Taks WCP_Latency_Reduction\vox-knowledge-aining\backend services\p \vox-knowledge-mining\backend\services\ Ad stan sadmouds 203 1 \prompts_utils.py-20

count-0).suggestion

FAILED test prompts.py::TestPromptAPI::test_get_prompts_success_with_filters AssertionError: assert 0 == 1

FAILED test prompts.py::TestPromptAPI::test_get_prompts_no filters assert 0 - 4

FAILED test prompts.py::TestPromptAPI::test_get_prompts_limit_results_to_maximum_five_suggestions assert 0 = 5

FAILED test prompts.py::TestPromptAPI::test_get_prompts_http_exception_passthrough Failed: DID NOT RAISE <class 'fastapi.exceptions.HTTPException'>
