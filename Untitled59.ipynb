async def fetch_prompts(sso_token: str, auth_token: str) -> List[dict]:

3

4

S

7

8

19

1

2

3

4

5

Fetch prompts from the Vox library with caching (async version)

cache key "all prompts"

if cache key in prompt_cache:

logger.debug("Returning cached prompts") return prompt_cache[cache_key]

logger.info("Fetching fresh prompts from library")

headers-{

"x-auth": f"Bearer (sso_token)",

try:

} "Authorization": f"Bearer {auth_token}"

async with httpx.AsyncClient(timeout-10.0) as client:

response await client.get(PROMPT_LIBRARY URL, headers-headers) response.raise_for_status()

data response.json()

If not data.get("success", False):

error_msg data.get("message", "Invalid response from prompt library") logger.error(f"Prompt library error: [error_msg)") raise HTTPException(status_code-4808, detail-error_msg)

prompts = data.get("details", ()).get("prompts", []) logger.info(f"Fetched (len(prompts)) prompts")

prompt_cache[cache key] prompts

return prompts

except httpx.RequestError as e:

logger.error("Request failed: (str(e))", exc_info-True)

raise HTTPException(status_code-583, detail-"Prompt library service unavailable")

except Exception as e:

logger.error(f"Failed to fetch prompts: (str(e))", exc_info-True) raise HTTPException(status_code-500, detail-str(e))
